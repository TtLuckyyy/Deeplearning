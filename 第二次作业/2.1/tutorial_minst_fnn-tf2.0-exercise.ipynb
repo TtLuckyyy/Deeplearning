{
 "cells": [
  {
   "cell_type": "markdown",
   "metadata": {},
   "source": [
    "## 准备数据"
   ]
  },
  {
   "cell_type": "code",
   "execution_count": 1,
   "metadata": {},
   "outputs": [],
   "source": [
    "import os\n",
    "import numpy as np\n",
    "import tensorflow as tf\n",
    "from tensorflow import keras\n",
    "from tensorflow.keras import layers, optimizers, datasets\n",
    "\n",
    "os.environ['TF_CPP_MIN_LOG_LEVEL'] = '2'  # or any {'0', '1', '2'}\n",
    "\n",
    "def mnist_dataset():\n",
    "    (x, y), (x_test, y_test) = datasets.mnist.load_data()\n",
    "    #normalize\n",
    "    x = x/255.0\n",
    "    x_test = x_test/255.0\n",
    "    \n",
    "    return (x, y), (x_test, y_test)"
   ]
  },
  {
   "cell_type": "code",
   "execution_count": 2,
   "metadata": {},
   "outputs": [
    {
     "name": "stdout",
     "output_type": "stream",
     "text": [
      "[(1, 'a'), (2, 'b'), (3, 'c'), (4, 'd')]\n"
     ]
    }
   ],
   "source": [
    "print(list(zip([1, 2, 3, 4], ['a', 'b', 'c', 'd'])))"
   ]
  },
  {
   "cell_type": "markdown",
   "metadata": {},
   "source": [
    "## 建立模型"
   ]
  },
  {
   "cell_type": "code",
   "execution_count": 6,
   "metadata": {},
   "outputs": [],
   "source": [
    "class myModel:\n",
    "    def __init__(self):\n",
    "        ####################\n",
    "        '''声明模型对应的参数'''\n",
    "        initializer = tf.keras.initializers.HeNormal()  # He 初始化\n",
    "        self.W1 = tf.Variable(initializer(shape=(28 * 28, 128)), trainable=True)\n",
    "        self.b1 = tf.Variable(tf.zeros(shape=(128,)), trainable=True)\n",
    "        self.W2 = tf.Variable(initializer(shape=(128, 10)), trainable=True)\n",
    "        self.b2 = tf.Variable(tf.zeros(shape=(10,)), trainable=True)\n",
    "\n",
    "        # 额外添加 Batch Normalization 层\n",
    "        self.batch_norm = tf.keras.layers.BatchNormalization()\n",
    "        ####################\n",
    "    \n",
    "    def __call__(self, x, training=True):\n",
    "        ####################\n",
    "        '''实现模型函数体，返回未归一化的logits'''\n",
    "        ####################\n",
    "        x_flattened = tf.reshape(x, [-1, 784])\n",
    "\n",
    "        # 隐藏层\n",
    "        h1 = tf.matmul(x_flattened, self.W1) + self.b1\n",
    "        h1 = self.batch_norm(h1, training=training)  # 归一化\n",
    "        activated_h1 = tf.nn.relu(h1)  # 使用 ReLU\n",
    "\n",
    "        # 输出层,分类任务最后输出的是未归一化的 logits，即模型预测的得分\n",
    "        logits = tf.matmul(activated_h1, self.W2) + self.b2\n",
    "        return logits\n",
    "        \n",
    "model = myModel()\n",
    "\n",
    "optimizer = optimizers.Adam()"
   ]
  },
  {
   "cell_type": "markdown",
   "metadata": {},
   "source": [
    "## 计算 loss"
   ]
  },
  {
   "cell_type": "code",
   "execution_count": 7,
   "metadata": {},
   "outputs": [],
   "source": [
    "@tf.function\n",
    "def compute_loss(logits, labels):\n",
    "    return tf.reduce_mean(\n",
    "        tf.nn.sparse_softmax_cross_entropy_with_logits(\n",
    "            logits=logits, labels=labels))\n",
    "\n",
    "@tf.function\n",
    "def compute_accuracy(logits, labels):\n",
    "    predictions = tf.argmax(logits, axis=1)\n",
    "    return tf.reduce_mean(tf.cast(tf.equal(predictions, labels), tf.float32))\n",
    "\n",
    "@tf.function\n",
    "def train_one_step(model, optimizer, x, y):\n",
    "    with tf.GradientTape() as tape:\n",
    "        logits = model(x)\n",
    "        loss = compute_loss(logits, y)\n",
    "\n",
    "    # compute gradient\n",
    "    trainable_vars = [model.W1, model.W2, model.b1, model.b2]\n",
    "    grads = tape.gradient(loss, trainable_vars)\n",
    "    for g, v in zip(grads, trainable_vars):\n",
    "        v.assign_sub(0.01*g)\n",
    "\n",
    "    accuracy = compute_accuracy(logits, y)\n",
    "\n",
    "    # loss and accuracy is scalar tensor\n",
    "    return loss, accuracy\n",
    "\n",
    "@tf.function\n",
    "def test(model, x, y):\n",
    "    logits = model(x)\n",
    "    loss = compute_loss(logits, y)\n",
    "    accuracy = compute_accuracy(logits, y)\n",
    "    return loss, accuracy"
   ]
  },
  {
   "cell_type": "markdown",
   "metadata": {},
   "source": [
    "## 实际训练"
   ]
  },
  {
   "cell_type": "code",
   "execution_count": 17,
   "metadata": {},
   "outputs": [
    {
     "name": "stdout",
     "output_type": "stream",
     "text": [
      "epoch 0 : loss 0.37935847 ; accuracy 0.9016167\n",
      "epoch 1 : loss 0.37916914 ; accuracy 0.90171665\n",
      "epoch 2 : loss 0.37898013 ; accuracy 0.90173334\n",
      "epoch 3 : loss 0.37879157 ; accuracy 0.90178335\n",
      "epoch 4 : loss 0.3786033 ; accuracy 0.90183336\n",
      "epoch 5 : loss 0.37841544 ; accuracy 0.9018667\n",
      "epoch 6 : loss 0.3782279 ; accuracy 0.9018667\n",
      "epoch 7 : loss 0.3780407 ; accuracy 0.9019167\n",
      "epoch 8 : loss 0.3778539 ; accuracy 0.90195\n",
      "epoch 9 : loss 0.37766746 ; accuracy 0.90201664\n",
      "epoch 10 : loss 0.37748137 ; accuracy 0.90206665\n",
      "epoch 11 : loss 0.37729573 ; accuracy 0.9021\n",
      "epoch 12 : loss 0.37711036 ; accuracy 0.9022\n",
      "epoch 13 : loss 0.37692532 ; accuracy 0.9022\n",
      "epoch 14 : loss 0.37674066 ; accuracy 0.9022\n",
      "epoch 15 : loss 0.37655637 ; accuracy 0.9022833\n",
      "epoch 16 : loss 0.3763725 ; accuracy 0.9023\n",
      "epoch 17 : loss 0.37618896 ; accuracy 0.90235\n",
      "epoch 18 : loss 0.37600574 ; accuracy 0.90236664\n",
      "epoch 19 : loss 0.37582296 ; accuracy 0.90241665\n",
      "epoch 20 : loss 0.37564054 ; accuracy 0.90245\n",
      "epoch 21 : loss 0.37545845 ; accuracy 0.90248334\n",
      "epoch 22 : loss 0.37527668 ; accuracy 0.90258336\n",
      "epoch 23 : loss 0.3750953 ; accuracy 0.9026\n",
      "epoch 24 : loss 0.37491426 ; accuracy 0.9026\n",
      "epoch 25 : loss 0.37473354 ; accuracy 0.9026333\n",
      "epoch 26 : loss 0.3745532 ; accuracy 0.9026667\n",
      "epoch 27 : loss 0.3743731 ; accuracy 0.9027333\n",
      "epoch 28 : loss 0.37419343 ; accuracy 0.90275\n",
      "epoch 29 : loss 0.37401405 ; accuracy 0.90276664\n",
      "epoch 30 : loss 0.3738351 ; accuracy 0.90278333\n",
      "epoch 31 : loss 0.37365645 ; accuracy 0.90283334\n",
      "epoch 32 : loss 0.37347806 ; accuracy 0.90285\n",
      "epoch 33 : loss 0.3733001 ; accuracy 0.9029\n",
      "epoch 34 : loss 0.3731224 ; accuracy 0.90295\n",
      "epoch 35 : loss 0.37294504 ; accuracy 0.90295\n",
      "epoch 36 : loss 0.372768 ; accuracy 0.9030167\n",
      "epoch 37 : loss 0.37259132 ; accuracy 0.9031\n",
      "epoch 38 : loss 0.37241492 ; accuracy 0.90313333\n",
      "epoch 39 : loss 0.37223887 ; accuracy 0.9032\n",
      "epoch 40 : loss 0.3720632 ; accuracy 0.90325\n",
      "epoch 41 : loss 0.37188783 ; accuracy 0.90328336\n",
      "epoch 42 : loss 0.3717127 ; accuracy 0.9033167\n",
      "epoch 43 : loss 0.37153798 ; accuracy 0.9033667\n",
      "epoch 44 : loss 0.37136352 ; accuracy 0.9034\n",
      "epoch 45 : loss 0.3711894 ; accuracy 0.9034\n",
      "epoch 46 : loss 0.37101555 ; accuracy 0.9034167\n",
      "epoch 47 : loss 0.37084204 ; accuracy 0.90345\n",
      "epoch 48 : loss 0.3706689 ; accuracy 0.90353334\n",
      "epoch 49 : loss 0.370496 ; accuracy 0.90356666\n",
      "test loss 0.35891688 ; accuracy 0.906\n"
     ]
    }
   ],
   "source": [
    "train_data, test_data = mnist_dataset()\n",
    "for epoch in range(50):\n",
    "    loss, accuracy = train_one_step(model, optimizer, \n",
    "                                    tf.constant(train_data[0], dtype=tf.float32), \n",
    "                                    tf.constant(train_data[1], dtype=tf.int64))\n",
    "    print('epoch', epoch, ': loss', loss.numpy(), '; accuracy', accuracy.numpy())\n",
    "loss, accuracy = test(model, \n",
    "                      tf.constant(test_data[0], dtype=tf.float32), \n",
    "                      tf.constant(test_data[1], dtype=tf.int64))\n",
    "\n",
    "print('test loss', loss.numpy(), '; accuracy', accuracy.numpy())"
   ]
  }
 ],
 "metadata": {
  "kernelspec": {
   "display_name": "Python 3",
   "language": "python",
   "name": "python3"
  },
  "language_info": {
   "codemirror_mode": {
    "name": "ipython",
    "version": 3
   },
   "file_extension": ".py",
   "mimetype": "text/x-python",
   "name": "python",
   "nbconvert_exporter": "python",
   "pygments_lexer": "ipython3",
   "version": "3.9.13"
  }
 },
 "nbformat": 4,
 "nbformat_minor": 2
}
